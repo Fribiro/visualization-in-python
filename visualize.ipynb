{
 "cells": [
  {
   "cell_type": "code",
   "execution_count": 3,
   "metadata": {},
   "outputs": [],
   "source": [
    "import pandas as pd \n",
    "import numpy as np \n",
    "import matplotlib.pyplot as mt\n",
    "import seaborn as sns"
   ]
  },
  {
   "cell_type": "code",
   "execution_count": 5,
   "metadata": {},
   "outputs": [],
   "source": [
    "df = pd.read_csv('./listings.csv')"
   ]
  },
  {
   "cell_type": "code",
   "execution_count": 8,
   "metadata": {},
   "outputs": [
    {
     "name": "stderr",
     "output_type": "stream",
     "text": [
      "/tmp/ipykernel_192791/628759798.py:1: FutureWarning: Dropping of nuisance columns in DataFrame reductions (with 'numeric_only=None') is deprecated; in a future version this will raise TypeError.  Select only valid columns before calling the reduction.\n",
      "  df.mean().sum()\n"
     ]
    },
    {
     "data": {
      "text/plain": [
       "4.865518321519391e+17"
      ]
     },
     "execution_count": 8,
     "metadata": {},
     "output_type": "execute_result"
    }
   ],
   "source": [
    "#get mean of all columns\n",
    "df.mean().sum()"
   ]
  },
  {
   "cell_type": "code",
   "execution_count": 9,
   "metadata": {},
   "outputs": [
    {
     "name": "stdout",
     "output_type": "stream",
     "text": [
      "id                                  0\n",
      "host_id                             0\n",
      "neighbourhood_group               410\n",
      "latitude                            0\n",
      "longitude                           0\n",
      "price                               6\n",
      "minimum_nights                      0\n",
      "number_of_reviews                   0\n",
      "reviews_per_month                  49\n",
      "calculated_host_listings_count      0\n",
      "availability_365                    0\n",
      "number_of_reviews_ltm               0\n",
      "license                           410\n",
      "dtype: int64\n"
     ]
    }
   ],
   "source": [
    "print(df.select_dtypes(include='number').isnull().sum())"
   ]
  },
  {
   "cell_type": "code",
   "execution_count": 10,
   "metadata": {},
   "outputs": [
    {
     "name": "stdout",
     "output_type": "stream",
     "text": [
      "name              0\n",
      "host_name         0\n",
      "neighbourhood     0\n",
      "room_type         0\n",
      "last_review      49\n",
      "dtype: int64\n"
     ]
    }
   ],
   "source": [
    "print(df.select_dtypes(include='object').isnull().sum())"
   ]
  },
  {
   "cell_type": "code",
   "execution_count": 16,
   "metadata": {},
   "outputs": [
    {
     "name": "stdout",
     "output_type": "stream",
     "text": [
      "Index([], dtype='object')\n",
      "None\n"
     ]
    }
   ],
   "source": [
    "#columns with high percentage of missing values (above 50%)\n",
    "threshold = 0.5\n",
    "cols_to_drop = df.columns[df.isnull().mean() > threshold]\n",
    "cleaned_data = df.drop(cols_to_drop, axis=1, inplace=True)\n",
    "\n",
    "#dropped two columns i.e neighbourhood_group and license\n",
    "print(cols_to_drop)\n",
    "print(cleaned_data)"
   ]
  },
  {
   "cell_type": "code",
   "execution_count": 17,
   "metadata": {},
   "outputs": [
    {
     "name": "stdout",
     "output_type": "stream",
     "text": [
      "id                                 0\n",
      "host_id                            0\n",
      "latitude                           0\n",
      "longitude                          0\n",
      "price                              6\n",
      "minimum_nights                     0\n",
      "number_of_reviews                  0\n",
      "reviews_per_month                 49\n",
      "calculated_host_listings_count     0\n",
      "availability_365                   0\n",
      "number_of_reviews_ltm              0\n",
      "dtype: int64\n"
     ]
    }
   ],
   "source": [
    "print(df.select_dtypes(include='number').isnull().sum())"
   ]
  }
 ],
 "metadata": {
  "kernelspec": {
   "display_name": "Python 3",
   "language": "python",
   "name": "python3"
  },
  "language_info": {
   "codemirror_mode": {
    "name": "ipython",
    "version": 3
   },
   "file_extension": ".py",
   "mimetype": "text/x-python",
   "name": "python",
   "nbconvert_exporter": "python",
   "pygments_lexer": "ipython3",
   "version": "3.9.13"
  },
  "orig_nbformat": 4
 },
 "nbformat": 4,
 "nbformat_minor": 2
}
